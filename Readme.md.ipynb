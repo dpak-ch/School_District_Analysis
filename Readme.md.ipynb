{
 "cells": [
  {
   "cell_type": "markdown",
   "id": "b7c4d215",
   "metadata": {},
   "source": [
    "# School District Analysis"
   ]
  },
  {
   "cell_type": "markdown",
   "id": "e6636dd0",
   "metadata": {},
   "source": [
    "## Contents\n",
    "- [Overview of the Project](#overview)\n",
    "- [Files](#files)\n",
    "- [Results](#data-analysis-results)\n",
    "- [Impacts](#other-impacts)"
   ]
  },
  {
   "cell_type": "markdown",
   "id": "095d7970",
   "metadata": {},
   "source": [
    "## Overview\n",
    "The purpose of the analysis is to help a school district understand performance trends using standardized testing scores from several schools. Reading and math scores are available for schools in the district. The analysis involves slicing the data many ways and reporting performance of the schools in both subjects. An important part of the analysis is to discard data where the scores are suspect. Python (and Pandas) with Jupyter Notebook was used to complete the analysis."
   ]
  },
  {
   "cell_type": "markdown",
   "id": "7d462d75",
   "metadata": {},
   "source": [
    "## Files\n",
    "PyCitySchools_Challenge.ipynb - Contains code and all the required output dataframes"
   ]
  },
  {
   "attachments": {
    "District_Summary.png": {
     "image/png": "[encoded data removed]"
    }
   },
   "cell_type": "markdown",
   "id": "580c7f04",
   "metadata": {},
   "source": [
    "## Data Analysis Results\n",
    "\n",
    "### District Summary\n",
    "The key difference from previous analysis is the elimination of 9th grade reading and math scores for Thomas High School. These students constitute a very small percentage of the total number of students on the district. The overall passing percentages decrease slightly with the elimination of ninth grade results as shown below:\n",
    "\n",
    "![District_Summary.png](attachment:District_Summary.png)\n",
    "\n",
    "### School Summary\n",
    "The results for Thomas High School however are affected more drastically with the elimination of 9th grade results. The previous results were artificially inflated due to the suspected academic dishonesty. The overall passing percentage decreased from previous values of 90% to ~65% as shown below:\n",
    "\n",
    "![School_Summary.png](attachment:School_Summary.png)\n",
    "\n",
    "### School Level Performance \n",
    "Thomas High School's performance relative to the other schools was significantly affected with the elimination of 9th grade scores. The scores were eliminated, but the total number of students used in the calculation of percentages stayed the same. This put Thomas High Schools in the middle of the pack, while it previously was in the top 3 schools:\n",
    "\n",
    "\n",
    "![Thomas_High_Prior.png](attachment:Thomas_High_Prior.png)\n",
    "\n",
    "![Thomas_High_Current.png](attachment:Thomas_High_Current.png)\n",
    "\n",
    "\n",
    "### Other Impacts\n",
    "\n",
    "#### Grade Level Impact\n",
    "\n",
    "Eliminating the 9th grade scores of Thomas High School resulted  in slightly lower overall average scores. The reading average decreased from 82.5 to 82.4, while the math avearge decreased from 80.4 to 80.1, both insignificant changes. Shown below are the scores by school and grade:\n",
    "\n",
    "![Math_Scores_By_Grade.png](attachment:Math_Scores_By_Grade.png)\n",
    "\n",
    "![Reading_Scores_By_Grade.png](attachment:Reading_Scores_By_Grade.png)\n",
    "\n",
    "\n",
    "#### Spending Level Impact \n",
    "Minimal to no impact was observed when viewing scores by spending levels. Thomas High Schools falls in the 630-644 spending range. The passing percentage decreased by 0.1 percent in each of the categories due to the 9th grade score replacement.\n",
    "\n",
    "![Scores_By_Spending_Level.png](attachment:Scores_By_Spending_Level.png)\n",
    "\n",
    "#### School Size Impact\n",
    "Thomas High School falls in the Medium sized schools category. Again, minimal impact of <0.5 percent was observed in this category.\n",
    "\n",
    "![Scores_By_School_Size.png](attachment:Scores_By_School_Size.png)\n",
    "\n",
    "#### School Type Impact\n",
    "Thomas High is a charter school. Impact of <0.1 percent was observed in this category.\n",
    "\n",
    "![Scores_By_School_Type.png](attachment:Scores_By_School_Type.png)\n",
    "\n",
    "\n",
    "### Summary of Changes\n",
    "Following is a summary of chnages with the elimination of Thomas High School 9th grade scores: \n",
    "1. Ninth grade average scores across the disctrict dropped slightly.\n",
    "2. Average passing percentage for schools with spending in the 630-644 range dropped by 0.1%.\n",
    "3. Medium sized schools saw a slight drop in overall passing percentage.\n",
    "4. Charter schools' overall passing percentage was slightly impacted (<0.1%).\n",
    "\n"
   ]
  }
 ],
 "metadata": {
  "kernelspec": {
   "display_name": "PythonData",
   "language": "python",
   "name": "pythondata"
  },
  "language_info": {
   "codemirror_mode": {
    "name": "ipython",
    "version": 3
   },
   "file_extension": ".py",
   "mimetype": "text/x-python",
   "name": "python",
   "nbconvert_exporter": "python",
   "pygments_lexer": "ipython3",
   "version": "3.9.4"
  }
 },
 "nbformat": 4,
 "nbformat_minor": 5
}
