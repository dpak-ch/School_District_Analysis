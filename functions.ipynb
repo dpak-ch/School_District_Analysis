{
 "cells": [
  {
   "cell_type": "code",
   "execution_count": 1,
   "id": "357e000f",
   "metadata": {},
   "outputs": [],
   "source": [
    "def passing_pct(pass_count, total_count):\n",
    "    return pass_count / total_count * 100"
   ]
  },
  {
   "cell_type": "code",
   "execution_count": 2,
   "id": "c9e1611e",
   "metadata": {},
   "outputs": [
    {
     "data": {
      "text/plain": [
       "50.0"
      ]
     },
     "execution_count": 2,
     "metadata": {},
     "output_type": "execute_result"
    }
   ],
   "source": [
    "passing_count = 500\n",
    "student_count = 1000\n",
    "passing_pct(passing_count,student_count)"
   ]
  },
  {
   "cell_type": "code",
   "execution_count": 2,
   "id": "0a42ebc7",
   "metadata": {},
   "outputs": [
    {
     "data": {
      "text/plain": [
       "0    B\n",
       "1    C\n",
       "2    B\n",
       "3    D\n",
       "dtype: object"
      ]
     },
     "execution_count": 2,
     "metadata": {},
     "output_type": "execute_result"
    }
   ],
   "source": [
    "# listof greades\n",
    "my_grades = ['B', 'C', 'B' , 'D']\n",
    "import pandas as pd\n",
    "my_grades = pd.Series(my_grades)\n",
    "my_grades"
   ]
  },
  {
   "cell_type": "code",
   "execution_count": 3,
   "id": "587164a5",
   "metadata": {},
   "outputs": [
    {
     "name": "stdout",
     "output_type": "stream",
     "text": [
      "0    B\n",
      "1    C\n",
      "2    B\n",
      "3    D\n",
      "dtype: object\n"
     ]
    }
   ],
   "source": [
    "my_grades.map({\"B\": 'A', 'C': 'B', 'D': 'C'})\n",
    "print(my_grades)"
   ]
  },
  {
   "cell_type": "code",
   "execution_count": 4,
   "id": "e9bfd4f3",
   "metadata": {},
   "outputs": [
    {
     "name": "stdout",
     "output_type": "stream",
     "text": [
      "92\n",
      "85\n",
      "87\n",
      "98\n"
     ]
    }
   ],
   "source": [
    "# Using the format() function.\n",
    "my_grades = [92.34, 84.56, 86.78, 98.32]\n",
    "\n",
    "for grade in my_grades:\n",
    "    print(\"{:.0f}\".format(grade))"
   ]
  },
  {
   "cell_type": "code",
   "execution_count": null,
   "id": "10e1b4bd",
   "metadata": {},
   "outputs": [],
   "source": []
  }
 ],
 "metadata": {
  "kernelspec": {
   "display_name": "PythonData",
   "language": "python",
   "name": "pythondata"
  },
  "language_info": {
   "codemirror_mode": {
    "name": "ipython",
    "version": 3
   },
   "file_extension": ".py",
   "mimetype": "text/x-python",
   "name": "python",
   "nbconvert_exporter": "python",
   "pygments_lexer": "ipython3",
   "version": "3.9.4"
  }
 },
 "nbformat": 4,
 "nbformat_minor": 5
}
